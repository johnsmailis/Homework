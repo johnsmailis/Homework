{
 "cells": [
  {
   "attachments": {},
   "cell_type": "markdown",
   "metadata": {},
   "source": [
    "Write a function that determines if a string is a palindrome.\n",
    "\n",
    "A palindrome is a string that is the same forward and backwards.\n",
    "\n",
    "Examples: \n",
    "\n",
    "isPalindrome('racecar') // --> true\n",
    "isPalindrome('table') // --> false"
   ]
  },
  {
   "attachments": {},
   "cell_type": "markdown",
   "metadata": {},
   "source": [
    "function \n",
    "\n",
    "(inside function)\n",
    "if the word is userinput is equal to the other word forward and backwards\n",
    "Loop over word matching letters\n",
    "the result will equal 'True'\n",
    "if not 'false' \n"
   ]
  },
  {
   "cell_type": "code",
   "execution_count": null,
   "metadata": {},
   "outputs": [],
   "source": [
    "# user_input= input('input a word: ')\n",
    "\n",
    "# def paliundrome():  \n",
    "#     if user_input==u\n",
    "\n",
    "# def myfunct1():\n",
    "#     j = 'fantastic'\n",
    "#     k = 'amazing'\n",
    "\n",
    "# print('savvy coders', j)\n",
    "\n",
    "\n"
   ]
  },
  {
   "cell_type": "markdown",
   "metadata": {},
   "source": []
  },
  {
   "cell_type": "code",
   "execution_count": null,
   "metadata": {},
   "outputs": [],
   "source": [
    "count = 0\n",
    "letters = (\"The quick brown fox jumps over the lazy dog\")\n",
    "vowels = 'aeiou'\n",
    "for x in (letters):\n",
    "    count += 1   \n",
    "print(count) \n",
    "\n",
    "for x in letters:\n",
    "    if x in vowels:\n",
    "        print(x)\n",
    "\n",
    "        '''\n",
    "        3. Loop over the following string to (1) count all the characters in the string and \n",
    "        (2) print out all the vowels \n",
    "        -- \"The quick brown fox jumps over the lazy dog\"\n",
    "    \n",
    "        '''"
   ]
  },
  {
   "cell_type": "code",
   "execution_count": 8,
   "metadata": {},
   "outputs": [
    {
     "name": "stdout",
     "output_type": "stream",
     "text": [
      "This is not a palindrome\n"
     ]
    }
   ],
   "source": [
    "palindrome_input = input('enter a word')\n",
    "\n",
    "palindrome_list = []\n",
    "for letter in palindrome_input: \n",
    "    palindrome_list.append(letter)\n",
    "\n",
    "reversed = palindrome_list.sort(reverse=True)\n",
    "\n",
    "def palindrome(word): \n",
    "  if palindrome_input == reversed: \n",
    "    print('This is a palindrome')\n",
    "  else:\n",
    "    print('This is not a palindrome')\n",
    "\n",
    "palindrome(1)\n",
    "\n"
   ]
  },
  {
   "cell_type": "code",
   "execution_count": null,
   "metadata": {},
   "outputs": [],
   "source": [
    "def palindrome(word): \n",
    "  for letter in palindrome_input:\n",
    "    if letter in palindrome:\n",
    "        print(x)"
   ]
  }
 ],
 "metadata": {
  "kernelspec": {
   "display_name": "Python 3",
   "language": "python",
   "name": "python3"
  },
  "language_info": {
   "codemirror_mode": {
    "name": "ipython",
    "version": 3
   },
   "file_extension": ".py",
   "mimetype": "text/x-python",
   "name": "python",
   "nbconvert_exporter": "python",
   "pygments_lexer": "ipython3",
   "version": "3.10.7"
  },
  "orig_nbformat": 4,
  "vscode": {
   "interpreter": {
    "hash": "aee8b7b246df8f9039afb4144a1f6fd8d2ca17a180786b69acc140d282b71a49"
   }
  }
 },
 "nbformat": 4,
 "nbformat_minor": 2
}
