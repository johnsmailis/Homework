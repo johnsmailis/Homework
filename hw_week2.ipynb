{
 "cells": [
  {
   "cell_type": "code",
   "execution_count": null,
   "metadata": {},
   "outputs": [],
   "source": []
  },
  {
   "attachments": {},
   "cell_type": "markdown",
   "metadata": {},
   "source": [
    "# Homework 2\n",
    "1. What kind of language is Python considered? \n",
    "* _Python is considered a high-level language._\n",
    "\n",
    "1. What’s a natural language? \n",
    "* _Languages that are mostly spoken languages that form on their own. Slang is a great example of a natural language._\n",
    "\n",
    "1. Is Python a Natural or a Formal language? \n",
    "* _Python is a formal language_\n",
    "\n",
    "1. What are Algorithms? \n",
    "* _An algorithm is a series of steps to solve a problem at hand_\n",
    "\n",
    "1. Why is Python considered to be a high-level language? \n",
    "* _Python is a considered to be a high level language because it is easy to use and understand_\n",
    "\n",
    "1. What is a Semantic error? \n",
    "* _code is grammatically correct but doesn't make any sense; it does not produce the expected results_\n",
    "\n",
    "1. What is the #1 rule of coding / debugging? \n",
    "* _Complexity is the enemy of efficiency!_"
   ]
  },
  {
   "cell_type": "code",
   "execution_count": 1,
   "metadata": {},
   "outputs": [
    {
     "name": "stdout",
     "output_type": "stream",
     "text": [
      "Hello, World. My name is John. I like cheese\n"
     ]
    }
   ],
   "source": [
    "\n",
    "print('Hello, World. My name is John. I like cheese')\n"
   ]
  }
 ],
 "metadata": {
  "kernelspec": {
   "display_name": "Python 3",
   "language": "python",
   "name": "python3"
  },
  "language_info": {
   "codemirror_mode": {
    "name": "ipython",
    "version": 3
   },
   "file_extension": ".py",
   "mimetype": "text/x-python",
   "name": "python",
   "nbconvert_exporter": "python",
   "pygments_lexer": "ipython3",
   "version": "3.10.7"
  },
  "orig_nbformat": 4,
  "vscode": {
   "interpreter": {
    "hash": "aee8b7b246df8f9039afb4144a1f6fd8d2ca17a180786b69acc140d282b71a49"
   }
  }
 },
 "nbformat": 4,
 "nbformat_minor": 2
}
