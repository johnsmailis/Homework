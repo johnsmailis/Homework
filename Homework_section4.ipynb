{
 "cells": [
  {
   "attachments": {},
   "cell_type": "markdown",
   "metadata": {},
   "source": [
    "# 4. Python Homework\n",
    "\n",
    "Create a file and name it 4-Homework (this can be done in a MarkDown file and a Python, or it can be done in a combined Jupyter Notebook file)\n",
    "\n",
    "<br >\n",
    "\n",
    "## **Please Answer These Questions:-**\n",
    "\n",
    "1. What does one need to do to use a module?\n",
    "-  Import the respective module into our code-base. by using the import statement. \n"
   ]
  },
  {
   "attachments": {},
   "cell_type": "markdown",
   "metadata": {},
   "source": [
    "2. Name a Module (not the DateTime Nodule) we looked at and write a line or 2 of code as an example using this module.\n"
   ]
  },
  {
   "cell_type": "code",
   "execution_count": 2,
   "metadata": {},
   "outputs": [
    {
     "name": "stdout",
     "output_type": "stream",
     "text": [
      "2\n"
     ]
    }
   ],
   "source": [
    "import math\n",
    "print(math.ceil(1.4))"
   ]
  },
  {
   "attachments": {},
   "cell_type": "markdown",
   "metadata": {},
   "source": [
    "3. What is a benefit of using Exception handling?\n",
    "- With this code device we can keep going past many errors.\n",
    "\n",
    "4. NumPy arrays are like what Python data type?\n",
    "- Arrays are similar to lists \n",
    "\n",
    "5. What is one of the main benefits of using NumPy arrays.\n",
    "- The require less memory, are faster to process compared to lists, and it is conveniant to work with numpy. \n",
    "\n",
    "6. What is one of the main requirements about the 'dtype' of NumPy arrays?\n",
    "- the elements are all the same dtype\n",
    "\n",
    "7. Of the 10 uses of NumPy, name 2.\n",
    "- You can reshape arrays. You can sort through arrays\n",
    "\n",
    "8. Name one of the other libraries we'll use with NumPy?\n",
    "- pandas\n",
    "\n",
    "9. What is the shape of NumPy arrays?\n",
    "-It can be a 6 dimensional shape. It depends on the diminsion input. \n",
    "\n",
    "10. What is a Tensor?\n",
    "- An array with 3 + dimensions \n",
    "\n",
    "11. Name a reason why it's better using  NumPy for Data Analysis than using a Python List?\n",
    "- it's mathematical operators are faster than list mathematical operators\n",
    "\n",
    "12. When creating an \"empty\" array, where do the elements come from?\n",
    "- initial content is random and depends on the state of the memory"
   ]
  },
  {
   "attachments": {},
   "cell_type": "markdown",
   "metadata": {},
   "source": [
    "13. Use the DateTime module to get Current Date and Time, and save it to a variable. Then extract just the Full month name form that variable."
   ]
  },
  {
   "cell_type": "code",
   "execution_count": 6,
   "metadata": {},
   "outputs": [
    {
     "name": "stdout",
     "output_type": "stream",
     "text": [
      "2023-02-16 16:00:11.168326\n",
      "Current month: 2\n"
     ]
    },
    {
     "data": {
      "text/plain": [
       "'February'"
      ]
     },
     "execution_count": 6,
     "metadata": {},
     "output_type": "execute_result"
    }
   ],
   "source": [
    "import datetime as dt\n",
    "import calendar\n",
    "now = dt.datetime.now() \n",
    "print(now)\n",
    "print(\"Current month:\", now.month)\n",
    "calendar.month_name[2] \n"
   ]
  },
  {
   "cell_type": "markdown",
   "metadata": {},
   "source": []
  },
  {
   "cell_type": "code",
   "execution_count": null,
   "metadata": {},
   "outputs": [],
   "source": []
  }
 ],
 "metadata": {
  "kernelspec": {
   "display_name": "Python 3",
   "language": "python",
   "name": "python3"
  },
  "language_info": {
   "codemirror_mode": {
    "name": "ipython",
    "version": 3
   },
   "file_extension": ".py",
   "mimetype": "text/x-python",
   "name": "python",
   "nbconvert_exporter": "python",
   "pygments_lexer": "ipython3",
   "version": "3.10.7"
  },
  "orig_nbformat": 4,
  "vscode": {
   "interpreter": {
    "hash": "aee8b7b246df8f9039afb4144a1f6fd8d2ca17a180786b69acc140d282b71a49"
   }
  }
 },
 "nbformat": 4,
 "nbformat_minor": 2
}
