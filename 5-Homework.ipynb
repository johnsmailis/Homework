{
 "cells": [
  {
   "attachments": {},
   "cell_type": "markdown",
   "metadata": {},
   "source": [
    "# Questions \n",
    "1. What does Pandas stand for?\n",
    "- References both \"Panel Data\" and \"Python Data Analysis\" \n",
    "1. What are the 2 collections used in Pandas?\n",
    "- Dataframe and series\n",
    "1. Name 4 things Pandas can do for us.\n",
    "- Data cleansing\n",
    "- Data normalization\n",
    "- Data visualization\n",
    "- Data inspection\n",
    "1. To permanently sort a DataFrame, which keyword should one use with the `df.sort()` method?\n",
    "- Values\n",
    "1. What is a CSV\n",
    "- A comma-separated values file is a delimited text file that uses a comma to separate value\n",
    "1. When cleaning data what values do we not like in our data?\n",
    "- Null values, and repeated values"
   ]
  },
  {
   "attachments": {},
   "cell_type": "markdown",
   "metadata": {},
   "source": [
    "1. Concatenate these 3 arrays into a new array named 'newArray'...\n",
    "\n",
    "```python\n",
    "        ([[25, 16]])\n",
    "        ([[11, 2], [13, 4]])\n",
    "        ([[7, 81], [5, 6], [11, 12]]) \n",
    "        ```"
   ]
  },
  {
   "cell_type": "code",
   "execution_count": null,
   "metadata": {},
   "outputs": [],
   "source": [
    "import numpy as np\n",
    "a1 = np.array([[25, 16]])\n",
    "a2 = np.array([[11, 2], [13, 4]])\n",
    "a3 = np.array([[7, 81], [5, 6], [11, 12]])\n",
    "\n",
    "newArray = np.concatenate((a1, a2, a3,), axis= 0)\n"
   ]
  },
  {
   "attachments": {},
   "cell_type": "markdown",
   "metadata": {},
   "source": [
    "2. Sort 'newArray' in order into 'sortedArray'"
   ]
  },
  {
   "cell_type": "code",
   "execution_count": null,
   "metadata": {},
   "outputs": [],
   "source": [
    "import numpy as np\n",
    "a1 = np.array([[25, 16]])\n",
    "a2 = np.array([[11, 2], [13, 4]])\n",
    "a3 = np.array([[7, 81], [5, 6], [11, 12]])\n",
    "\n",
    "newArray = np.concatenate((a1, a2, a3,), axis= 0)\n",
    "sortedArray = np.sort(newArray)\n",
    "print(sortedArray)\n"
   ]
  },
  {
   "attachments": {},
   "cell_type": "markdown",
   "metadata": {},
   "source": [
    "3. Reshape the 'sortedArray' array, into a new array called 'reshapedArray', so it has 2 dimensions with a size of 2, 3."
   ]
  },
  {
   "cell_type": "code",
   "execution_count": null,
   "metadata": {},
   "outputs": [],
   "source": [
    "import numpy as np\n",
    "a1 = np.array([[25, 16]])\n",
    "a2 = np.array([[11, 2], [13, 4]])\n",
    "a3 = np.array([[7, 81], [5, 6], [11, 12]])\n",
    "\n",
    "newArray = np.concatenate((a1, a2, a3,), axis= 0)\n",
    "sortedArray = np.sort(newArray)\n",
    "print(sortedArray)\n",
    "\n",
    "reshapedArray = np.reshape(sortedArray, (2, 2, 3))\n",
    "print(reshapedArray)"
   ]
  },
  {
   "attachments": {},
   "cell_type": "markdown",
   "metadata": {},
   "source": [
    "4. Unpack the array tuples from the above 'reshapedArray'  into 4 well named variables. Print the 4 variables."
   ]
  },
  {
   "cell_type": "code",
   "execution_count": null,
   "metadata": {},
   "outputs": [],
   "source": [
    "import numpy as np\n",
    "a1 = np.array([[25, 16]])\n",
    "a2 = np.array([[11, 2], [13, 4]])\n",
    "a3 = np.array([[7, 81], [5, 6], [11, 12]])\n",
    "\n",
    "newArray = np.concatenate((a1, a2, a3,), axis= 0)\n",
    "sortedArray = np.sort(newArray)\n",
    "# print(sortedArray)\n",
    "\n",
    "reshapedArray = np.reshape(sortedArray, (4, 3))\n",
    "print(reshapedArray)\n",
    "\n",
    "arr1, arr2, arr3, arr4 = reshapedArray"
   ]
  },
  {
   "attachments": {},
   "cell_type": "markdown",
   "metadata": {},
   "source": [
    "5. Combined and sort the following arrays into one called 'comboArray' ...\n",
    "\n",
    "```python\n",
    "    one = ([10, 11, 12, 13, 14, 15, 16, 17])\n",
    "    two = ([20, 21, 22, 23, 24, 25, 26, 27])\n",
    "    three = ([ 0, 1, 2, 3, 4, 5, 6, 7])"
   ]
  },
  {
   "cell_type": "code",
   "execution_count": null,
   "metadata": {},
   "outputs": [],
   "source": [
    "import numpy\n",
    "from numpy import array\n",
    "one = array([10, 11, 12, 13, 14, 15, 16, 17])\n",
    "two = array([20, 21, 22, 23, 24, 25, 26, 27])\n",
    "three = array([ 0, 1, 2, 3, 4, 5, 6, 7])\n",
    "\n",
    "combined = np.concatenate((one, two, three), axis=0)\n",
    "comboArray = np.sort(combined)\n",
    "print(comboArray)\n"
   ]
  },
  {
   "attachments": {},
   "cell_type": "markdown",
   "metadata": {},
   "source": [
    "6. Take 'comboArray' and perform the following slicing activities:\n",
    "    - print sec1 - the 2nd element\n",
    "    - print sec2 - all elements from the 3rd element to the last\n",
    "    - print sec3 - all elements from the 4th to the 14th elements\n",
    "    - print sec4 - the last 6 elements\n",
    "    - print sec5 - all element from #0 up to and including #15, using the negative number method, i.e. taking a section from the end.\n",
    "    - print sec6 - from #20 every even element to the end\n",
    "    - print sec7 - from the last element moving forward, every 5th element."
   ]
  },
  {
   "cell_type": "code",
   "execution_count": null,
   "metadata": {},
   "outputs": [],
   "source": [
    "import numpy\n",
    "from numpy import array\n",
    "one = array([10, 11, 12, 13, 14, 15, 16, 17])\n",
    "two = array([20, 21, 22, 23, 24, 25, 26, 27])\n",
    "three = array([ 0, 1, 2, 3, 4, 5, 6, 7])\n",
    "\n",
    "combined = np.concatenate((one, two, three), axis=0)\n",
    "comboArray = np.sort(combined)\n",
    "# print(comboArray)\n",
    "# [ 0  1  2  3  4  5  6  7 10 11 12 13 14 15 16 17 20 21 22 23 24 25 26 27]\n",
    "sec1 = comboArray[1]\n",
    "print(sec1)\n",
    "\n",
    "sec2 = comboArray[2:]\n",
    "print(sec2)\n",
    "\n",
    "sec3 = comboArray[4:14]\n",
    "print(sec3)\n",
    "\n",
    "sec4 = comboArray[-6:]\n",
    "print(sec4)\n",
    "\n",
    "sec5 = comboArray[-27:-10]\n",
    "print(sec5)\n",
    "\n",
    "sec6 = comboArray[(-8)::2]\n",
    "print(sec6)\n",
    "\n",
    "sec7= comboArray[(-20)::5]\n",
    "print(sec7)"
   ]
  },
  {
   "attachments": {},
   "cell_type": "markdown",
   "metadata": {},
   "source": [
    "7. Using simple math operations, broadcast the addition `(+)`, division `(/)`, and multiplication `(*)` operations for these 2 arrays --\n",
    "\n",
    "```python\n",
    "    ([[[ 0.0,  0.0,  0.10], [10.0, 10.30, 10.01]],\n",
    "        [[20.0, 20.02, 20.10], [30.0, 31.0, 30.30]],\n",
    "        [[40.40, 24.0, 40.0], [15.0, 15.5, 25.5]]])\n",
    "\n",
    "    ([[17.0, 70.0, 10.7]])\n",
    "```"
   ]
  },
  {
   "cell_type": "code",
   "execution_count": null,
   "metadata": {},
   "outputs": [],
   "source": [
    "import numpy as np\n",
    "x = np.array([[[ 0.0,  0.0,  0.10], [10.0, 10.30, 10.01]],\n",
    "        [[20.0, 20.02, 20.10], [30.0, 31.0, 30.30]],\n",
    "        [[40.40, 24.0, 40.0], [15.0, 15.5, 25.5]]])\n",
    "\n",
    "y = np.array([[17.0, 70.0, 10.7]])\n",
    "\n",
    "print(x + y)\n",
    "print(x / y)\n",
    "print(x * y)\n"
   ]
  },
  {
   "attachments": {},
   "cell_type": "markdown",
   "metadata": {},
   "source": [
    "8. Use the NumPy Arithmetic functions to do the subtraction of the above two arrays in pont #7."
   ]
  },
  {
   "cell_type": "code",
   "execution_count": null,
   "metadata": {},
   "outputs": [],
   "source": [
    "import numpy as np\n",
    "x = np.array([[[ 0.0,  0.0,  0.10], [10.0, 10.30, 10.01]],\n",
    "        [[20.0, 20.02, 20.10], [30.0, 31.0, 30.30]],\n",
    "        [[40.40, 24.0, 40.0], [15.0, 15.5, 25.5]]])\n",
    "\n",
    "y = np.array([[17.0, 70.0, 10.7]])\n",
    "subtraction = np.subtract(x, y)\n",
    "print(subtraction)"
   ]
  },
  {
   "attachments": {},
   "cell_type": "markdown",
   "metadata": {},
   "source": [
    "9. Using modulo find all elements that are divisible by 3 from the multi-dimensional array under point #7 above."
   ]
  },
  {
   "cell_type": "code",
   "execution_count": null,
   "metadata": {},
   "outputs": [],
   "source": [
    "import numpy as np\n",
    "x = np.array([[[ 0.0,  0.0,  0.10], [10.0, 10.30, 10.01]],\n",
    "        [[20.0, 20.02, 20.10], [30.0, 31.0, 30.30]],\n",
    "        [[40.40, 24.0, 40.0], [15.0, 15.5, 25.5]]])\n",
    "\n",
    "y = np.array([[17.0, 70.0, 10.7]])\n",
    "\n",
    "divisible_by_3 = x[x % 3 == 0]\n",
    "print(divisible_by_3)\n"
   ]
  },
  {
   "attachments": {},
   "cell_type": "markdown",
   "metadata": {},
   "source": [
    "10. Using `Series`, create a `DataFrame` that looks like this:\n",
    "\n",
    "    | Ingredients | Quantity | Unit |\n",
    "    |----|----|----|\n",
    "    | Flour | 4 | cups |\n",
    "    | Milk | 1 | cup |\n",
    "    | Eggs | 2 | large |\n",
    "    | Spam | 1 | can |\n",
    "\n",
    "    Name: Dinner, dtype: object"
   ]
  },
  {
   "cell_type": "code",
   "execution_count": null,
   "metadata": {},
   "outputs": [],
   "source": [
    "import pandas as pd\n",
    "\n",
    "ingredients = pd.Series(['Flour', 'Milk', 'Eggs', 'Spam'], name= 'ingredients')\n",
    "quantity = pd.Series([4, 1, 2, 1], name= 'quantity')\n",
    "unit = pd.Series(['cups', 'cup', 'large', 'can'], name= 'unit')\n",
    "\n",
    "recipe = pd.concat([ingredients, quantity, unit], axis=1)\n",
    "print(recipe)"
   ]
  },
  {
   "attachments": {},
   "cell_type": "markdown",
   "metadata": {},
   "source": [
    "11. Take this data and create a DataFrame named studentData\n",
    "\n",
    "```Python\n",
    "    {'Name': ['Jai', 'janusha', 'Gaurav', 'Anuj'],\n",
    "        'Height': [5.1, 6.2, 5.1, 5.2],\n",
    "        'Qualification': ['Msc', 'MA', 'Msc', 'Msc'],\n",
    "        'address': ['Delhi', 'Doha', 'Chennai', 'Dakhar'],\n",
    "        'Age': [21, 23, 24, 21],\n",
    "        'Pets': ['Dog', 'Bunny', 'Chinchilla', 'Parrot'],\n",
    "        'sport': ['Darts', 'Basketball', 'PaddleBoarding', 'Cricket']\n",
    "    }\n",
    "```"
   ]
  },
  {
   "cell_type": "code",
   "execution_count": null,
   "metadata": {},
   "outputs": [],
   "source": [
    "import pandas as pd\n",
    "\n",
    "names = pd.Series(['Jai', 'janusha', 'Gaurav', 'Anuj'], name= 'Name')\n",
    "height = pd.Series([5.1, 6.2, 5.1, 5.2], name= 'Height')\n",
    "Qualification = pd.Series(['Msc', 'MA', 'Msc', 'Msc'], name= 'Qualification')\n",
    "Address = pd.Series(['Delhi', 'Doha', 'Chennai', 'Dakhar'], name= 'Address')\n",
    "Age = pd.Series([21, 23, 24, 21], name= 'Age')\n",
    "Pets = pd.Series(['Dog', 'Bunny', 'Chinchilla', 'Parrot'], name= 'Pets')\n",
    "sports = pd.Series(['Darts', 'Basketball', 'PaddleBoarding', 'Cricket'], name= 'Sports')\n",
    "\n",
    "StudentData = pd.concat([names, height, Qualification, Address, Age, Pets, sports], axis=1)\n",
    "print(StudentData)"
   ]
  },
  {
   "attachments": {},
   "cell_type": "markdown",
   "metadata": {},
   "source": [
    "12. Add a new column to the DataFrame with the following deserts:\n",
    "        [\"ice cream\", \"Cashew Fudge\", \"waffels\", \"Carrot Halwa\"]"
   ]
  },
  {
   "cell_type": "code",
   "execution_count": null,
   "metadata": {},
   "outputs": [],
   "source": [
    "import pandas as pd\n",
    "\n",
    "names = pd.Series(['Jai', 'janusha', 'Gaurav', 'Anuj'], name= 'Name')\n",
    "height = pd.Series([5.1, 6.2, 5.1, 5.2], name= 'Height')\n",
    "Qualification = pd.Series(['Msc', 'MA', 'Msc', 'Msc'], name= 'Qualification')\n",
    "Address = pd.Series(['Delhi', 'Doha', 'Chennai', 'Dakhar'], name= 'Address')\n",
    "Age = pd.Series([21, 23, 24, 21], name= 'Age')\n",
    "Pets = pd.Series(['Dog', 'Bunny', 'Chinchilla', 'Parrot'], name= 'Pets')\n",
    "sports = pd.Series(['Darts', 'Basketball', 'PaddleBoarding', 'Cricket'], name= 'Sports')\n",
    "food = pd.Series([\"ice cream\", \"Cashew Fudge\", \"waffels\", \"Carrot Halwa\"], name = 'food')\n",
    "StudentData = pd.concat([names, height, Qualification, Address, Age, Pets, sports, food], axis=1)\n",
    "print(StudentData)"
   ]
  },
  {
   "attachments": {},
   "cell_type": "markdown",
   "metadata": {},
   "source": [
    "13. Sort the 'studentData' DataFrame in Ascending order -- Sorting by column 'Name' and then \"address\"\n"
   ]
  },
  {
   "cell_type": "code",
   "execution_count": null,
   "metadata": {},
   "outputs": [],
   "source": [
    "import pandas as pd\n",
    "\n",
    "names = pd.Series(['Jai', 'janusha', 'Gaurav', 'Anuj'], name= 'Name')\n",
    "height = pd.Series([5.1, 6.2, 5.1, 5.2], name= 'Height')\n",
    "Qualification = pd.Series(['Msc', 'MA', 'Msc', 'Msc'], name= 'Qualification')\n",
    "Address = pd.Series(['Delhi', 'Doha', 'Chennai', 'Dakhar'], name= 'Address')\n",
    "Age = pd.Series([21, 23, 24, 21], name= 'Age')\n",
    "Pets = pd.Series(['Dog', 'Bunny', 'Chinchilla', 'Parrot'], name= 'Pets')\n",
    "sports = pd.Series(['Darts', 'Basketball', 'PaddleBoarding', 'Cricket'], name= 'Sports')\n",
    "food = pd.Series([\"ice cream\", \"Cashew Fudge\", \"waffels\", \"Carrot Halwa\"], name = 'food')\n",
    "StudentData = pd.concat([names, height, Qualification, Address, Age, Pets, sports, food], axis=1)\n",
    "# print(StudentData)\n",
    "\n",
    "sorted_dataframe = StudentData.sort_values(by = ['Name', 'Address'], ascending= True)\n",
    "print(sorted_dataframe)"
   ]
  },
  {
   "attachments": {},
   "cell_type": "markdown",
   "metadata": {},
   "source": [
    "14. Save this `DataFrame` here below to disc as a `.CSV` file with the name `cows_and_goats.csv`:\n",
    "\n",
    "```python\n",
    "    df = pd.DataFrame({'Cows': [12, 20], 'Goats': [22, 19]}, index=['Year 1', 'Year 2'])\n",
    "```"
   ]
  },
  {
   "cell_type": "code",
   "execution_count": null,
   "metadata": {},
   "outputs": [],
   "source": [
    "import pandas as pd\n",
    "df = pd.DataFrame({'Cows': [12, 20], 'Goats': [22, 19]}, index=['Year 1', 'Year 2'])\n",
    "df.to_csv('cows_and_goats.csv')\n"
   ]
  },
  {
   "attachments": {},
   "cell_type": "markdown",
   "metadata": {},
   "source": [
    "15. (A) Using Pandas, make your own .CSV file with data on vegetables and save it. (B) Using Pandas, make a change to your CSV file, and save a copy with a different name."
   ]
  },
  {
   "cell_type": "code",
   "execution_count": null,
   "metadata": {},
   "outputs": [],
   "source": [
    "# (A) Using Pandas, make your own .CSV file with data on vegetables and save it.\n",
    "import pandas as pd\n",
    "df = pd.DataFrame({'corn': [12, 20], 'carrots': [22, 19]}, index=['Year 1', 'Year 2'])\n",
    "print(df)\n",
    "df.to_csv('corn_and_carrots.csv')\n",
    "\n",
    "\n"
   ]
  },
  {
   "cell_type": "code",
   "execution_count": 30,
   "metadata": {},
   "outputs": [],
   "source": [
    "import pandas as pd\n",
    "\n",
    "df = pd.read_csv('corn_and_carrots.csv')\n",
    "# (B) Using Pandas, make a change to your CSV file, and save a copy with a different name.\n",
    "x = round((df[\"corn\"].mean()), 2) \n",
    "df[\"corn\"].fillna(x, inplace = True)\n",
    "df.to_csv('corn_and_carrots_mean_values.csv')\n"
   ]
  },
  {
   "cell_type": "code",
   "execution_count": null,
   "metadata": {},
   "outputs": [],
   "source": []
  }
 ],
 "metadata": {
  "kernelspec": {
   "display_name": "Python 3",
   "language": "python",
   "name": "python3"
  },
  "language_info": {
   "codemirror_mode": {
    "name": "ipython",
    "version": 3
   },
   "file_extension": ".py",
   "mimetype": "text/x-python",
   "name": "python",
   "nbconvert_exporter": "python",
   "pygments_lexer": "ipython3",
   "version": "3.10.7"
  },
  "orig_nbformat": 4,
  "vscode": {
   "interpreter": {
    "hash": "aee8b7b246df8f9039afb4144a1f6fd8d2ca17a180786b69acc140d282b71a49"
   }
  }
 },
 "nbformat": 4,
 "nbformat_minor": 2
}
