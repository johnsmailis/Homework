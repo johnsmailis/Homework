{
 "cells": [
  {
   "attachments": {},
   "cell_type": "markdown",
   "metadata": {},
   "source": [
    "# Homework: \n"
   ]
  },
  {
   "attachments": {},
   "cell_type": "markdown",
   "metadata": {},
   "source": [
    "# Lists \n",
    "2. Create a list of at least 5 elements of mixed data types\n",
    "    - replace a part of it with something else\n",
    "    - append or insert several more items to the list\n",
    "    - find and print the length of the list\n",
    "    - slice a sub-section of the 1st list, and save it to a different 2nd list\n",
    "    - print the 2nd list\n",
    "    - extend your original list with the 2nd list sliced above\n",
    "    - Create a new list called \"simList\" containing at least 5 elements of the same data type, either string, integer, float, or Boolean.\n",
    "    - sort \"simList\", and print the list\n",
    "    - copy the \"simList\" list to another 3rd list\n",
    "    - add the 2nd and 3rd lists together into a 4th list"
   ]
  },
  {
   "cell_type": "code",
   "execution_count": 15,
   "metadata": {},
   "outputs": [
    {
     "name": "stdout",
     "output_type": "stream",
     "text": [
      "7\n",
      "['The weather is nice', 'Hi', 3.5]\n",
      "['apple', 'banana', 'cherry', 'ham', 'mango']\n",
      "['apple', 'banana', 'cherry', 'ham', 'mango', 'apple', 'banana', 'cherry', 'ham', 'mango']\n"
     ]
    }
   ],
   "source": [
    "# 2. Create a list of at least 5 elements of mixed data types\n",
    "List = [\"hello\", 1, 3.5, [1,2,3,4,5], {\"dad\" : \"jokes\"}]\n",
    "#  - replace a part of it with something else\n",
    "List[1] = \"Hi\"\n",
    "#   - append or insert several more items to the list\n",
    "List.append(\"The weather\")\n",
    "List.insert(1, \"The weather \" + 'is nice')\n",
    "#   - find and print the length of the list\n",
    "list_length = len(List)\n",
    "print(list_length)\n",
    "#  - slice a sub-section of the 1st list, and save it to a different 2nd list\n",
    "second_list = List[1:4]\n",
    "#  - print the 2nd list\n",
    "print(second_list)\n",
    "#  - extend your original list with the 2nd list sliced above\n",
    "List.extend(second_list)\n",
    "# - Create a new list called \"simList\" containing at least \n",
    "# 5 elements of the same data type, either string, integer, float, or Boolean.\n",
    "simList = ['apple', 'banana', 'cherry', 'mango', 'ham']\n",
    "# - sort \"simList\", and print the list\n",
    "simList.sort()\n",
    "print(simList)\n",
    "# - copy the \"simList\" list to another 3rd list\n",
    "new_list = simList.copy()\n",
    "# - add the 2nd and 3rd lists together into a 4th list\n",
    "third_list = (new_list + simList) \n",
    "print(third_list)\n"
   ]
  },
  {
   "attachments": {},
   "cell_type": "markdown",
   "metadata": {},
   "source": [
    "# Tuples\n",
    "3. Create a tuple of about 5 elements\n",
    "    - multiply your tuple by 3 and save it to a new 2nd tuple\n",
    "    - access and print the 12th element from the 2nd tuple\n",
    "    - sort the 2nd tuple and print it\n",
    "    - copy 4 specific elements from your 2nd tuple to a new 3nd tuple\n",
    "    - unpack the 3rd tuple into 4 variables and print these variables\n",
    "    - create a 4th tuple with single item 50 and print this tuple\n",
    "    - add the 2nd and 3rd tuple together into a 5th tuple and print the tuple"
   ]
  },
  {
   "cell_type": "code",
   "execution_count": 31,
   "metadata": {},
   "outputs": [
    {
     "name": "stdout",
     "output_type": "stream",
     "text": [
      "john\n",
      "['jack', 'jack', 'jack', 'james', 'james', 'james', 'jerry', 'jerry', 'jerry', 'jimmy', 'jimmy', 'jimmy', 'john', 'john', 'john']\n",
      "('jimmy', 'john', 'jerry', 'james')\n",
      "jimmy john jerry james\n",
      "50\n",
      "('jimmy', 'john', 'jerry', 'james', 'jack', 'jimmy', 'john', 'jerry', 'james', 'jack', 'jimmy', 'john', 'jerry', 'james', 'jack', 'jimmy', 'john', 'jerry', 'james')\n"
     ]
    }
   ],
   "source": [
    "# 3. Create a tuple of about 5 elements\n",
    "tuple1 = ('jimmy', 'john', 'jerry', 'james', 'jack')\n",
    "# - multiply your tuple by 3 and save it to a new 2nd tuple\n",
    "multiplication_tuple = tuple1 * 3\n",
    "# - access and print the 12th element from the 2nd tuple\n",
    "item_12 = multiplication_tuple[11]\n",
    "print(item_12)\n",
    "# - sort the 2nd tuple and print it\n",
    "sorted_tuple = sorted(multiplication_tuple)\n",
    "print(sorted_tuple)\n",
    "# - copy 4 specific elements from your 2nd tuple to a new 3nd tuple\n",
    "third_tuple = multiplication_tuple[:4]\n",
    "print(third_tuple)\n",
    "# - unpack the 3rd tuple into 4 variables and print these variables\n",
    "third_tuple = ('jimmy', 'john', 'jerry', 'james')\n",
    "(first, second, third, fourth) = third_tuple\n",
    "print(first, second, third, fourth)\n",
    "# - create a 4th tuple with single item 50 and print this tuple\n",
    "fourth_tuple = 50\n",
    "print(fourth_tuple)\n",
    "# - add the 2nd and 3rd tuple together into a 5th tuple and print the tuple\n",
    "fifth_tuple = multiplication_tuple + third_tuple\n",
    "print(fifth_tuple)\n"
   ]
  },
  {
   "attachments": {},
   "cell_type": "markdown",
   "metadata": {},
   "source": [
    "# Sets \n",
    "4. Create a set of about 3 elements\n",
    "    - add a list of fruits to the above set and print the result\n",
    "    - add a car element to your set\n",
    "    - create a 2nd set with a few odd items\n",
    "    - save the union of 1st set and 2nd set to a 3rd set\n",
    "    - pop an element from the 2nd set, and print the remainder of the set\n",
    "    - clear the 1st set and print the result\n",
    "    - discard an element, and remove another element from the 3rd set\n",
    "    - print the remainder of the 3rd set\n"
   ]
  },
  {
   "cell_type": "code",
   "execution_count": 50,
   "metadata": {},
   "outputs": [
    {
     "name": "stdout",
     "output_type": "stream",
     "text": [
      "{'jimmy', 'jacklyn', 'jack', 'plum', 'apple', 'peaches'}\n",
      "{'jimmy', 'jacklyn', 'jack', 'car', 'plum', 'apple', 'peaches'}\n",
      "{'jimmy', 1, 'jacklyn', 'two', 3.0, 'jack', 'car', 'plum', 'apple', 'peaches'}\n",
      "{'two', 3.0}\n",
      "set()\n",
      "{1, 'jacklyn', 3.0, 'jack', 'car', 'plum', 'apple', 'peaches'}\n"
     ]
    }
   ],
   "source": [
    "# 4. Create a set of about 3 elements\n",
    "first_set = {'jack', 'jimmy', 'jacklyn'}\n",
    "# - add a list of fruits to the above set and print the result\n",
    "fruits = ['apple', 'peaches', 'plum']\n",
    "first_set.update(fruits)\n",
    "print(first_set)\n",
    "# - add a car element to your set\n",
    "first_set.add('car')\n",
    "print(first_set)\n",
    "# - create a 2nd set with a few odd items\n",
    "second_set = {1, \"two\", 3.0}\n",
    "# - save the union of 1st set and 2nd set to a 3rd set\n",
    "third_set = first_set.union(second_set)\n",
    "print(third_set)\n",
    "# - pop an element from the 2nd set, and print the remainder of the set\n",
    "second_set.pop()\n",
    "print(second_set)\n",
    "# - clear the 1st set and print the result\n",
    "first_set.clear()\n",
    "print(first_set)\n",
    "# - discard an element, and remove another element from the 3rd set\n",
    "third_set.remove('jimmy')\n",
    "third_set.discard('two')\n",
    "print(third_set)\n",
    "\n"
   ]
  },
  {
   "attachments": {},
   "cell_type": "markdown",
   "metadata": {},
   "source": [
    "# Dictionaries\n",
    "5. Create a dictionary with at least 5 values of different data types\n",
    "    - print out 1 value\n",
    "    - replace any one value in your dictionary with your name\n",
    "    - add your favorite color to the dictionary\n",
    "    - add a list, tuple or set to your dictionary\n",
    "    - print a list of the dictionary keys\n",
    "    - print a list of the dictionary values\n",
    "    - copy your 1st dictionary into a 2nd dictionary\n",
    "    - pop an item from the 2nd dictionary, and print the dictionary\n",
    "    - remove all the elements from the 2nd dictionary and print the result"
   ]
  },
  {
   "cell_type": "code",
   "execution_count": 61,
   "metadata": {},
   "outputs": [
    {
     "name": "stdout",
     "output_type": "stream",
     "text": [
      "two\n",
      "{'one': 'john', 1: 2.0, 'two': True, 'three': [2], '4': 'green'}\n",
      "{'one': 'john', 1: 2.0, 'two': True, 'three': [2], '4': 'green', 'colors': ['red', 'white', 'blue']}\n",
      "dict_keys(['one', 1, 'two', 'three', '4', 'colors'])\n",
      "dict_values(['john', 2.0, True, [2], 'green', ['red', 'white', 'blue']])\n",
      "{'one': 'john', 1: 2.0, 'two': True, 'three': [2], '4': 'green'}\n",
      "{}\n"
     ]
    }
   ],
   "source": [
    "# 5. Create a dictionary with at least 5 values of different data types\n",
    "dict_1 = {\n",
    "    \"one\": \"two\",\n",
    "    1: 2,\n",
    "    \"two\": True,\n",
    "    1.0: 2.0,\n",
    "    'three': [2],\n",
    "}\n",
    "# - print out 1 value\n",
    "print(dict_1[\"one\"])\n",
    "# - replace any one value in your dictionary with your name\n",
    "dict_1[\"one\"] = 'john'\n",
    "# - add your favorite color to the dictionary\n",
    "dict_1[\"4\"] = 'green'\n",
    "print(dict_1)\n",
    "# - add a list, tuple or set to your dictionary\n",
    "dict_1['colors'] = ['red', 'white', 'blue']\n",
    "print(dict_1)\n",
    "# - print a list of the dictionary keys\n",
    "keys = dict_1.keys()\n",
    "print(keys)\n",
    "# - print a list of the dictionary values\n",
    "values = dict_1.values()\n",
    "print(values)\n",
    "# - copy your 1st dictionary into a 2nd dictionary\n",
    "dict_2 = dict_1.copy()\n",
    "# - pop an item from the 2nd dictionary, and print the dictionary\n",
    "dict_2.popitem()\n",
    "print(dict_2)\n",
    "# - remove all the elements from the 2nd dictionary and print the result\n",
    "dict_2.clear()\n",
    "print(dict_2)\n"
   ]
  },
  {
   "cell_type": "markdown",
   "metadata": {},
   "source": []
  }
 ],
 "metadata": {
  "kernelspec": {
   "display_name": "Python 3",
   "language": "python",
   "name": "python3"
  },
  "language_info": {
   "codemirror_mode": {
    "name": "ipython",
    "version": 3
   },
   "file_extension": ".py",
   "mimetype": "text/x-python",
   "name": "python",
   "nbconvert_exporter": "python",
   "pygments_lexer": "ipython3",
   "version": "3.10.7"
  },
  "orig_nbformat": 4,
  "vscode": {
   "interpreter": {
    "hash": "aee8b7b246df8f9039afb4144a1f6fd8d2ca17a180786b69acc140d282b71a49"
   }
  }
 },
 "nbformat": 4,
 "nbformat_minor": 2
}
