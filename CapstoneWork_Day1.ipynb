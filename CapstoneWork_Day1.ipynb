{
 "cells": [
  {
   "cell_type": "code",
   "execution_count": null,
   "metadata": {},
   "outputs": [],
   "source": [
    "# Human Development Index \n",
    "import pandas as pd\n",
    "df = pd.read_excel('/Users/johnparker/Desktop/code/SAVVY_CODERS/Capstone /HDR_Clean_Data.xlsx')\n",
    "print(df)\n",
    "# mean_HDI = round((df[\"Human Development Index (HDI)\"].mean()), 2)\n",
    "# df.info\n",
    "# print(df)\n",
    "# print(df.to_string)\n",
    "# print(df.dtypes)"
   ]
  },
  {
   "cell_type": "code",
   "execution_count": null,
   "metadata": {},
   "outputs": [],
   "source": [
    "# Happiness Analysis \n",
    "\n",
    "import pandas as pd\n",
    "df = pd.read_excel('/Users/johnparker/Desktop/code/SAVVY_CODERS/Capstone /2019_World Happiness Report_Clean.xlsx')\n",
    "# df.info\n",
    "print(df)\n",
    "mean_social_support = round((df[\"Social support\"].mean()), 2)\n",
    "mean_social_support \n",
    "print(mean_social_support)\n",
    "\n",
    "median_social_support = round((df[\"Social support\"].median()), 2)\n",
    "print(median_social_support)\n",
    "\n",
    "\n",
    "mode_social_support = round((df[\"Social support\"].mode()), 2)\n",
    "print(mode_social_support)"
   ]
  },
  {
   "cell_type": "code",
   "execution_count": null,
   "metadata": {},
   "outputs": [],
   "source": [
    "#Happiness\n",
    "\n",
    "import pandas as pd\n",
    "df = pd.read_excel('/Users/johnparker/Desktop/code/SAVVY_CODERS/Capstone /2019_World Happiness Report_Clean.xlsx')"
   ]
  },
  {
   "cell_type": "code",
   "execution_count": null,
   "metadata": {},
   "outputs": [],
   "source": [
    "# Suicidality\n",
    "\n",
    "import pandas as pd\n",
    "df = pd.read_excel('/Users/johnparker/Desktop/code/SAVVY_CODERS/Capstone /Suicide Rate Both sexes.xlsx')\n",
    "print(df)"
   ]
  },
  {
   "cell_type": "code",
   "execution_count": null,
   "metadata": {},
   "outputs": [],
   "source": [
    "# Depression \n",
    "\n",
    "df = pd.read_excel('/Users/johnparker/Desktop/code/SAVVY_CODERS/Capstone /depression-by-country_Updated.xlsx')\n",
    "print(df)"
   ]
  },
  {
   "cell_type": "code",
   "execution_count": null,
   "metadata": {},
   "outputs": [],
   "source": [
    "# Cause of Death = Mental Health Isue per country \n",
    "\n",
    "df = pd.read_excel('/Users/johnparker/Desktop/code/SAVVY_CODERS/Capstone /depression-by-country_Updated.xlsx')\n"
   ]
  },
  {
   "cell_type": "code",
   "execution_count": null,
   "metadata": {},
   "outputs": [],
   "source": [
    "from sklearn.linear_model import LinearRegression\n"
   ]
  },
  {
   "cell_type": "markdown",
   "metadata": {},
   "source": []
  },
  {
   "cell_type": "code",
   "execution_count": null,
   "metadata": {},
   "outputs": [],
   "source": []
  }
 ],
 "metadata": {
  "kernelspec": {
   "display_name": "Python 3",
   "language": "python",
   "name": "python3"
  },
  "language_info": {
   "codemirror_mode": {
    "name": "ipython",
    "version": 3
   },
   "file_extension": ".py",
   "mimetype": "text/x-python",
   "name": "python",
   "nbconvert_exporter": "python",
   "pygments_lexer": "ipython3",
   "version": "3.10.7"
  },
  "orig_nbformat": 4,
  "vscode": {
   "interpreter": {
    "hash": "aee8b7b246df8f9039afb4144a1f6fd8d2ca17a180786b69acc140d282b71a49"
   }
  }
 },
 "nbformat": 4,
 "nbformat_minor": 2
}
